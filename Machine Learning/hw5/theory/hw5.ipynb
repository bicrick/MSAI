{
 "cells": [
  {
   "cell_type": "markdown",
   "metadata": {},
   "source": [
    "# CS/DSC/AI 391L: Machine Learning\n",
    "## Homework 5 - Theory\n",
    "### Lecture: Prof. Qiang Liu"
   ]
  },
  {
   "cell_type": "markdown",
   "metadata": {},
   "source": [
    "# 1. Gaussian Multivariate\n",
    "\n",
    "Assume we have a multivariate normal random variable $X = [X_1, X_2, X_3, X_4]^T$, whose covariance matrix $\\Sigma$ and inverse covariance matrix $Q$ are:\n",
    "\n",
    "$$\\Sigma = \\begin{bmatrix} \n",
    "0.71 & -0.43 & 0.43 & 0 \\\\\n",
    "-0.43 & 0.46 & -0.26 & 0 \\\\\n",
    "0.43 & -0.26 & 0.46 & 0 \\\\\n",
    "0 & 0 & 0 & 0.2\n",
    "\\end{bmatrix}, \\quad\n",
    "Q = \\begin{bmatrix}\n",
    "5 & 3 & -3 & 0 \\\\\n",
    "3 & 5 & 0 & 0 \\\\\n",
    "-3 & 0 & 5 & 0 \\\\\n",
    "0 & 0 & 0 & 5\n",
    "\\end{bmatrix}$$\n",
    "\n",
    "Note that $Q$ is simply the inverse of $\\Sigma$, i.e., $Q = \\Sigma^{-1}$.\n",
    "\n",
    "(a) [5 points] Are $X_3$ and $X_4$ correlated?\n",
    "\n",
    "(b) [5 points] Are $X_3$ and $X_4$ conditionally correlated given the other variables? That is, does $\\text{cor}(X_3, X_4 | X_1, X_2)$ equal to zero?\n",
    "\n",
    "(c) [5 points] Please find the Markov blanket of $X_3$. Recall that the Markov blanket of $X_i$ is the set of variables (denoted by $X_M$) such that\n",
    "\n",
    "$$X_i \\perp X_{-(i\\cup M)} | X_M,$$\n",
    "\n",
    "where $-(i\\cup M)$ denotes all the variables outside of $(i)\\cup M$.\n",
    "\n",
    "(d) [5 points] Assume that $Y=[Y_1,Y_2]^T$ is defined by\n",
    "\n",
    "$$Y_1 = X_1 + X_4$$\n",
    "$$Y_2 = X_2 - X_4$$\n",
    "\n",
    "Please calculate the covariance matrix of $Y$.\n"
   ]
  },
  {
   "cell_type": "code",
   "execution_count": 17,
   "metadata": {},
   "outputs": [],
   "source": [
    "import numpy as np\n",
    "\n",
    "# Create the covariance matrix Σ\n",
    "Sigma = np.array([\n",
    "    [0.71, -0.43, 0.43, 0],\n",
    "    [-0.43, 0.46, -0.26, 0],\n",
    "    [0.43, -0.26, 0.46, 0],\n",
    "    [0, 0, 0, 0.2]\n",
    "])\n",
    "# Create the inverse covariance matrix Q\n",
    "Q = np.array([\n",
    "    [5, 3, -3, 0],\n",
    "    [3, 5, 0, 0],\n",
    "    [-3, 0, 5, 0],\n",
    "    [0, 0, 0, 5]\n",
    "])"
   ]
  },
  {
   "cell_type": "code",
   "execution_count": 18,
   "metadata": {},
   "outputs": [
    {
     "name": "stdout",
     "output_type": "stream",
     "text": [
      "Correlation between X3 and X4: 0.0\n"
     ]
    }
   ],
   "source": [
    "# Check correlation between X3 and X4\n",
    "correlation_X3_X4 = Sigma[2,3]  # Remember Python u\n",
    "print(f\"Correlation between X3 and X4: {correlation_X3_X4}\")\n",
    "\n",
    "# The answer is: No, X3 and X4 are not correlated because their covariance is 0"
   ]
  },
  {
   "cell_type": "markdown",
   "metadata": {},
   "source": [
    "A)\n",
    "\n",
    "To determine if X₃ and X₄ are correlated, we need to look at their correlation coefficient in the covariance matrix Σ. In the covariance matrix, the element at position (3,4) or (4,3) represents the covariance between X₃ and X₄.\n",
    "Looking at the matrix Σ:\n",
    "\n",
    "The element Σ₃₄ (or Σ₄₃) = 0\n",
    "Since the covariance is 0, this means X₃ and X₄ are uncorrelated.\n",
    "Here's the code to verify this:"
   ]
  },
  {
   "cell_type": "code",
   "execution_count": 19,
   "metadata": {},
   "outputs": [
    {
     "name": "stdout",
     "output_type": "stream",
     "text": [
      "Conditional correlation between X3 and X4 in Q matrix: 0\n"
     ]
    }
   ],
   "source": [
    "# Check conditional correlation between X3 and X4\n",
    "conditional_correlation = Q[2,3]  # Python uses 0-based indexing\n",
    "print(f\"Conditional correlation between X3 and X4 in Q matrix: {conditional_correlation}\")\n",
    "\n",
    "# The answer is: Yes, X3 and X4 are conditionally independent given X1 and X2\n",
    "# because their entry in the precision matrix Q is 0"
   ]
  },
  {
   "cell_type": "markdown",
   "metadata": {},
   "source": [
    "B) To determine if X₃ and X₄ are conditionally correlated given X₁ and X₂, we need to look at the inverse covariance matrix Q (also known as the precision matrix). In the precision matrix, a zero entry (i,j) indicates conditional independence between variables i and j given all other variables.\n",
    "\n",
    "Let's check the element Q₃₄ (or Q₄₃):\n",
    "\n",
    "Answer: Yes, X₃ and X₄ are conditionally independent given X₁ and X₂, because Q₃₄ = 0.\n",
    "This means that cov(X₃, X₄ | X₁, X₂) = 0.\n",
    "The intuition here is that:\n",
    "While Q₃₄ = 0 in the precision matrix\n",
    "This indicates that X₃ and X₄ are conditionally independent\n",
    "In other words, if we know the values of X₁ and X₂, knowing X₃ provides no additional information about X₄ (and vice versa)"
   ]
  },
  {
   "cell_type": "code",
   "execution_count": 20,
   "metadata": {},
   "outputs": [
    {
     "name": "stdout",
     "output_type": "stream",
     "text": [
      "Markov blanket of X2 includes X[1]\n"
     ]
    }
   ],
   "source": [
    "# Find Markov blanket of X2 by looking at non-zero entries in Q matrix\n",
    "def find_markov_blanket(Q, variable_index):\n",
    "    # Get the row corresponding to our variable (remember 0-based indexing)\n",
    "    connections = Q[variable_index]\n",
    "    # Find indices of non-zero elements, excluding the variable itself\n",
    "    blanket = [i for i in range(len(connections)) \n",
    "              if connections[i] != 0 and i != variable_index]\n",
    "    return blanket\n",
    "\n",
    "markov_blanket = find_markov_blanket(Q, 1)  # 1 is index for X2\n",
    "print(f\"Markov blanket of X2 includes X{[i+1 for i in markov_blanket]}\")"
   ]
  },
  {
   "cell_type": "markdown",
   "metadata": {},
   "source": [
    "C)\n",
    "\n",
    "Answer: The Markov blanket of X₂ is {X₁}. We can see this because in the row corresponding to X₂ in the precision matrix Q, there is only one non-zero off-diagonal element, which corresponds to X₁ (Q₂₁ = 3).\n",
    "This means that X₂ is conditionally independent of all other variables given X₁."
   ]
  },
  {
   "cell_type": "markdown",
   "metadata": {},
   "source": [
    "D)\n",
    "\n",
    "Let's calculate this step by step:\n",
    "For Var(Y₁) = Var(X₁ + X₄):\n",
    "Var(Y₁) = Var(X₁) + Var(X₄) + 2Cov(X₁,X₄)\n",
    "= 0.71 + 0.2 + 2(0) = 0.91\n",
    "\n",
    "For Var(Y₂) = Var(X₂ - X₄):\n",
    "Var(Y₂) = Var(X₂) + Var(X₄) - 2Cov(X₂,X₄)\n",
    "= 0.46 + 0.2 + 2(0) = 0.66\n",
    "\n",
    "\n",
    "For Cov(Y₁,Y₂) = Cov(X₁ + X₄, X₂ - X₄):\n",
    "= Cov(X₁,X₂) - Cov(X₁,X₄) + Cov(X₄,X₂) - Cov(X₄,X₄)\n",
    "= -0.43 - 0 + 0 - 0 = -0.43\n",
    "\n",
    "Therefore, the covariance matrix of Y is:"
   ]
  },
  {
   "cell_type": "code",
   "execution_count": 21,
   "metadata": {},
   "outputs": [
    {
     "name": "stdout",
     "output_type": "stream",
     "text": [
      "Covariance matrix of Y:\n",
      "[[ 0.91 -0.63]\n",
      " [-0.63  0.66]]\n",
      "\n",
      "Covariance matrix of Y (rounded):\n",
      "[[ 0.91 -0.63]\n",
      " [-0.63  0.66]]\n"
     ]
    }
   ],
   "source": [
    "import numpy as np\n",
    "\n",
    "# Define the transformation matrix A\n",
    "# Y1 = X1 + X4\n",
    "# Y2 = X2 - X4\n",
    "A = np.array([\n",
    "    [1, 0, 0, 1],  # For Y1 = X1 + X4\n",
    "    [0, 1, 0, -1]  # For Y2 = X2 - X4\n",
    "])\n",
    "\n",
    "# Calculate covariance matrix of Y\n",
    "# Cov(Y) = A * Sigma * A^T\n",
    "Y_cov = A @ Sigma @ A.T\n",
    "\n",
    "print(\"Covariance matrix of Y:\")\n",
    "print(Y_cov)\n",
    "\n",
    "# For better readability, round to 4 decimal places\n",
    "print(\"\\nCovariance matrix of Y (rounded):\")\n",
    "print(np.round(Y_cov, 4))"
   ]
  },
  {
   "cell_type": "markdown",
   "metadata": {
    "vscode": {
     "languageId": "latex"
    }
   },
   "source": [
    "# 2. Expectation Maximization (EM)\n",
    "\n",
    "Assume we have a dataset of two points {$x^{(1)}, x^{(2)}$}:\n",
    "\n",
    "$x^{(1)} = -1$, $x^{(2)} = 1$\n",
    "\n",
    "Assume $x^{(i)}$ is drawn i.i.d. from a simple mixture distribution of two Gaussian components:\n",
    "\n",
    "$f(x|\\mu_1, \\mu_2) = \\frac{1}{2}\\phi(x|\\mu_1, 1) + \\frac{1}{2}\\phi(x|\\mu_2, 1)$\n",
    "\n",
    "where $\\phi(x|\\mu_i, 1)$ denotes the probability density function of Gaussian distribution $N(\\mu_i, 1)$ with mean $\\mu_i$ and unit variance. We want to estimate the unknown parameters $\\mu_1$ and $\\mu_2$.\n",
    "\n",
    "a) Assume we run EM starting from an initialization of $\\mu_1 = -2$ and $\\mu_2 = 2$. Please decide the value of $\\mu_1$ and $\\mu_2$ at the next iteration of EM algorithm. (You may find it handy to know that $1/(1 + e^{-4}) \\approx 0.98$).\n",
    "\n",
    "b) Do you think EM (when initialized with $\\mu_1 = -2$ and $\\mu_2 = 2$) will eventually converge to $\\mu_1 = -1$ and $\\mu_2 = 1$ (i.e., coinciding with the two data points)? Please justify your answer using either your theoretical understanding or the result of an empirical simulation.\n",
    "\n",
    "c) Please decide the fixed point of EM when we initialize it from $\\mu_1 = \\mu_2 = 2$.\n",
    "\n",
    "d) Please decide the fixed point of K-means when we initialize it from $\\mu_1 = -2$ and $\\mu_2 = 2$.\n"
   ]
  }
 ],
 "metadata": {
  "kernelspec": {
   "display_name": "Python 3",
   "language": "python",
   "name": "python3"
  },
  "language_info": {
   "codemirror_mode": {
    "name": "ipython",
    "version": 3
   },
   "file_extension": ".py",
   "mimetype": "text/x-python",
   "name": "python",
   "nbconvert_exporter": "python",
   "pygments_lexer": "ipython3",
   "version": "3.11.4"
  }
 },
 "nbformat": 4,
 "nbformat_minor": 2
}
